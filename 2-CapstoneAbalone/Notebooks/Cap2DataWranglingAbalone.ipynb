{
 "cells": [
  {
   "cell_type": "markdown",
   "id": "e4c214c6",
   "metadata": {},
   "source": [
    "## Capstone 2 - Abalone Age Prediction\n",
    "### Data Wrangling\n",
    "**Context**: </br>\n",
    "The age of abalone is determined by cutting the shell through the cone, staining it, and counting the number of rings through a microscope -- a boring and time-consuming task. Other measurements, which are easier to obtain, are used to predict the age. Further information, such as weather patterns and location (hence food availability) may be required to solve the problem. </br>\n",
    "<i> Credit: https://www.kaggle.com/rodolfomendes/abalone-dataset </i>"
   ]
  },
  {
   "cell_type": "markdown",
   "id": "5d22acfd",
   "metadata": {},
   "source": [
    "**Hypothesis**: </br> - add at the end\n",
    "The age of abalone is determined by cutting the shell through the cone, staining it, and counting the number of rings through a microscope -- a boring and time-consuming task. Other measurements, which are easier to obtain, are used to predict the age. Further information, such as weather patterns and location (hence food availability) may be required to solve the problem. </br>\n",
    "<i> Credit: https://www.kaggle.com/rodolfomendes/abalone-dataset </i>"
   ]
  },
  {
   "cell_type": "code",
   "execution_count": null,
   "id": "f39e7f1c",
   "metadata": {},
   "outputs": [],
   "source": [
    "#Import pandas, matplotlib.pyplot, and seaborn in the correct lines below\n",
    "import pandas as pd\n",
    "import matplotlib.pyplot as plt\n",
    "import seaborn as sns\n",
    "import os\n",
    "\n",
    "from library.sb_utils import save_file"
   ]
  },
  {
   "cell_type": "code",
   "execution_count": null,
   "id": "32f7082b",
   "metadata": {},
   "outputs": [],
   "source": []
  }
 ],
 "metadata": {
  "language_info": {
   "name": "python"
  }
 },
 "nbformat": 4,
 "nbformat_minor": 5
}
