{
 "cells": [
  {
   "cell_type": "code",
   "execution_count": 1,
   "id": "9400987c",
   "metadata": {},
   "outputs": [],
   "source": [
    "#Import pandas, matplotlib.pyplot, seaborn, numpy, and os\n",
    "import pandas as pd\n",
    "import matplotlib.pyplot as plt\n",
    "import seaborn as sns\n",
    "import numpy as np\n",
    "import os"
   ]
  },
  {
   "cell_type": "code",
   "execution_count": 2,
   "id": "1ff4c7ee",
   "metadata": {},
   "outputs": [],
   "source": [
    "#Raw data from European adult online forum \n",
    "online_data = pd.read_csv('/Users/joyopsvig/Documents/SpringboardDataScience2021/CapstoneTwo/Dataset/online_sex_work.csv', low_memory=False, header = 0)"
   ]
  },
  {
   "cell_type": "code",
   "execution_count": 3,
   "id": "0861d1fb",
   "metadata": {},
   "outputs": [
    {
     "name": "stdout",
     "output_type": "stream",
     "text": [
      "<class 'pandas.core.frame.DataFrame'>\n",
      "RangeIndex: 1048575 entries, 0 to 1048574\n",
      "Data columns (total 18 columns):\n",
      " #   Column                               Non-Null Count  Dtype  \n",
      "---  ------                               --------------  -----  \n",
      " 0   User_ID                              28831 non-null  float64\n",
      " 1   Gender                               28827 non-null  object \n",
      " 2   Age                                  28831 non-null  object \n",
      " 3   Location                             28830 non-null  object \n",
      " 4   Verification                         28831 non-null  object \n",
      " 5   Sexual_orientation                   28830 non-null  object \n",
      " 6   Sexual_polarity                      28830 non-null  object \n",
      " 7   Looking_for                          28406 non-null  object \n",
      " 8   Points_Rank                          28831 non-null  object \n",
      " 9   Last_login                           28831 non-null  object \n",
      " 10  Member_since                         28831 non-null  object \n",
      " 11  Number_of_Comments_in_public_forum   28831 non-null  object \n",
      " 12  Time_spent_chating_H:M               28831 non-null  object \n",
      " 13  Number_of_advertisments_posted       28831 non-null  float64\n",
      " 14  Number_of_offline_meetings_attended  28831 non-null  float64\n",
      " 15  Profile_pictures                     28831 non-null  float64\n",
      " 16  Friends_ID_list                      3313 non-null   object \n",
      " 17  Risk                                 28831 non-null  object \n",
      "dtypes: float64(4), object(14)\n",
      "memory usage: 144.0+ MB\n"
     ]
    }
   ],
   "source": [
    "#Call info to see summary of data\n",
    "online_data.info()"
   ]
  },
  {
   "cell_type": "code",
   "execution_count": 4,
   "id": "6f8d5a18",
   "metadata": {},
   "outputs": [
    {
     "data": {
      "text/html": [
       "<div>\n",
       "<style scoped>\n",
       "    .dataframe tbody tr th:only-of-type {\n",
       "        vertical-align: middle;\n",
       "    }\n",
       "\n",
       "    .dataframe tbody tr th {\n",
       "        vertical-align: top;\n",
       "    }\n",
       "\n",
       "    .dataframe thead th {\n",
       "        text-align: right;\n",
       "    }\n",
       "</style>\n",
       "<table border=\"1\" class=\"dataframe\">\n",
       "  <thead>\n",
       "    <tr style=\"text-align: right;\">\n",
       "      <th></th>\n",
       "      <th>User_ID</th>\n",
       "      <th>Gender</th>\n",
       "      <th>Age</th>\n",
       "      <th>Location</th>\n",
       "      <th>Verification</th>\n",
       "      <th>Sexual_orientation</th>\n",
       "      <th>Sexual_polarity</th>\n",
       "      <th>Looking_for</th>\n",
       "      <th>Points_Rank</th>\n",
       "      <th>Last_login</th>\n",
       "      <th>Member_since</th>\n",
       "      <th>Number_of_Comments_in_public_forum</th>\n",
       "      <th>Time_spent_chating_H:M</th>\n",
       "      <th>Number_of_advertisments_posted</th>\n",
       "      <th>Number_of_offline_meetings_attended</th>\n",
       "      <th>Profile_pictures</th>\n",
       "      <th>Friends_ID_list</th>\n",
       "      <th>Risk</th>\n",
       "    </tr>\n",
       "  </thead>\n",
       "  <tbody>\n",
       "    <tr>\n",
       "      <th>0</th>\n",
       "      <td>10386.0</td>\n",
       "      <td>male</td>\n",
       "      <td>34,6</td>\n",
       "      <td>A</td>\n",
       "      <td>Non_Verified</td>\n",
       "      <td>Homosexual</td>\n",
       "      <td>Switch</td>\n",
       "      <td>Men</td>\n",
       "      <td>50</td>\n",
       "      <td>before_10_days</td>\n",
       "      <td>17.9.2012</td>\n",
       "      <td>32</td>\n",
       "      <td>0:2</td>\n",
       "      <td>0.0</td>\n",
       "      <td>0.0</td>\n",
       "      <td>0.0</td>\n",
       "      <td>18260</td>\n",
       "      <td>No_risk</td>\n",
       "    </tr>\n",
       "    <tr>\n",
       "      <th>1</th>\n",
       "      <td>14.0</td>\n",
       "      <td>male</td>\n",
       "      <td>32,2</td>\n",
       "      <td>J</td>\n",
       "      <td>Non_Verified</td>\n",
       "      <td>Heterosexual</td>\n",
       "      <td>Dominant</td>\n",
       "      <td>Women</td>\n",
       "      <td>518</td>\n",
       "      <td>before_1_days</td>\n",
       "      <td>1.11.2009</td>\n",
       "      <td>710</td>\n",
       "      <td>3:45</td>\n",
       "      <td>9.0</td>\n",
       "      <td>0.0</td>\n",
       "      <td>0.0</td>\n",
       "      <td>11778,32024,43768,23969,27318,45884,31277</td>\n",
       "      <td>No_risk</td>\n",
       "    </tr>\n",
       "    <tr>\n",
       "      <th>2</th>\n",
       "      <td>16721.0</td>\n",
       "      <td>male</td>\n",
       "      <td>33,6</td>\n",
       "      <td>K</td>\n",
       "      <td>Non_Verified</td>\n",
       "      <td>Heterosexual</td>\n",
       "      <td>Dominant</td>\n",
       "      <td>Women</td>\n",
       "      <td>150</td>\n",
       "      <td>before_3_days</td>\n",
       "      <td>1.4.2013</td>\n",
       "      <td>25</td>\n",
       "      <td>2:15</td>\n",
       "      <td>1.0</td>\n",
       "      <td>1.0</td>\n",
       "      <td>45.0</td>\n",
       "      <td>19805,21721,19802</td>\n",
       "      <td>No_risk</td>\n",
       "    </tr>\n",
       "    <tr>\n",
       "      <th>3</th>\n",
       "      <td>16957.0</td>\n",
       "      <td>male</td>\n",
       "      <td>34</td>\n",
       "      <td>H</td>\n",
       "      <td>Non_Verified</td>\n",
       "      <td>Heterosexual</td>\n",
       "      <td>Dominant</td>\n",
       "      <td>Women</td>\n",
       "      <td>114</td>\n",
       "      <td>before_4_days</td>\n",
       "      <td>8.4.2013</td>\n",
       "      <td>107</td>\n",
       "      <td>359:22</td>\n",
       "      <td>1.0</td>\n",
       "      <td>0.0</td>\n",
       "      <td>1.0</td>\n",
       "      <td>40847,38183,9507,42259,5807,28118,24848,37170,...</td>\n",
       "      <td>No_risk</td>\n",
       "    </tr>\n",
       "    <tr>\n",
       "      <th>4</th>\n",
       "      <td>17125.0</td>\n",
       "      <td>male</td>\n",
       "      <td>39,5</td>\n",
       "      <td>B</td>\n",
       "      <td>Non_Verified</td>\n",
       "      <td>Heterosexual</td>\n",
       "      <td>Dominant</td>\n",
       "      <td>Women</td>\n",
       "      <td>497</td>\n",
       "      <td>before_5_days</td>\n",
       "      <td>14.4.2013</td>\n",
       "      <td>600</td>\n",
       "      <td>0:21</td>\n",
       "      <td>0.0</td>\n",
       "      <td>6.0</td>\n",
       "      <td>8.0</td>\n",
       "      <td>1320,35739,34231,19097,20197,18069,12330,43342...</td>\n",
       "      <td>No_risk</td>\n",
       "    </tr>\n",
       "  </tbody>\n",
       "</table>\n",
       "</div>"
      ],
      "text/plain": [
       "   User_ID Gender   Age Location  Verification Sexual_orientation  \\\n",
       "0  10386.0   male  34,6        A  Non_Verified         Homosexual   \n",
       "1     14.0   male  32,2        J  Non_Verified       Heterosexual   \n",
       "2  16721.0   male  33,6        K  Non_Verified       Heterosexual   \n",
       "3  16957.0   male    34        H  Non_Verified       Heterosexual   \n",
       "4  17125.0   male  39,5        B  Non_Verified       Heterosexual   \n",
       "\n",
       "  Sexual_polarity Looking_for Points_Rank      Last_login Member_since  \\\n",
       "0          Switch         Men          50  before_10_days    17.9.2012   \n",
       "1        Dominant       Women         518   before_1_days    1.11.2009   \n",
       "2        Dominant       Women         150   before_3_days     1.4.2013   \n",
       "3        Dominant       Women         114   before_4_days     8.4.2013   \n",
       "4        Dominant       Women         497   before_5_days    14.4.2013   \n",
       "\n",
       "  Number_of_Comments_in_public_forum Time_spent_chating_H:M  \\\n",
       "0                                 32                    0:2   \n",
       "1                                710                   3:45   \n",
       "2                                 25                   2:15   \n",
       "3                                107                 359:22   \n",
       "4                                600                   0:21   \n",
       "\n",
       "   Number_of_advertisments_posted  Number_of_offline_meetings_attended  \\\n",
       "0                             0.0                                  0.0   \n",
       "1                             9.0                                  0.0   \n",
       "2                             1.0                                  1.0   \n",
       "3                             1.0                                  0.0   \n",
       "4                             0.0                                  6.0   \n",
       "\n",
       "   Profile_pictures                                    Friends_ID_list  \\\n",
       "0               0.0                                              18260   \n",
       "1               0.0          11778,32024,43768,23969,27318,45884,31277   \n",
       "2              45.0                                  19805,21721,19802   \n",
       "3               1.0  40847,38183,9507,42259,5807,28118,24848,37170,...   \n",
       "4               8.0  1320,35739,34231,19097,20197,18069,12330,43342...   \n",
       "\n",
       "      Risk  \n",
       "0  No_risk  \n",
       "1  No_risk  \n",
       "2  No_risk  \n",
       "3  No_risk  \n",
       "4  No_risk  "
      ]
     },
     "execution_count": 4,
     "metadata": {},
     "output_type": "execute_result"
    }
   ],
   "source": [
    "#Call head method to print first several rows of data\n",
    "online_data.head()"
   ]
  },
  {
   "cell_type": "code",
   "execution_count": 5,
   "id": "69298535",
   "metadata": {},
   "outputs": [
    {
     "data": {
      "text/plain": [
       "(1048575, 18)"
      ]
     },
     "execution_count": 5,
     "metadata": {},
     "output_type": "execute_result"
    }
   ],
   "source": [
    "#Call shape to see size of data\n",
    "online_data.shape"
   ]
  },
  {
   "cell_type": "code",
   "execution_count": 6,
   "id": "b59eae00",
   "metadata": {},
   "outputs": [
    {
     "data": {
      "text/html": [
       "<div>\n",
       "<style scoped>\n",
       "    .dataframe tbody tr th:only-of-type {\n",
       "        vertical-align: middle;\n",
       "    }\n",
       "\n",
       "    .dataframe tbody tr th {\n",
       "        vertical-align: top;\n",
       "    }\n",
       "\n",
       "    .dataframe thead th {\n",
       "        text-align: right;\n",
       "    }\n",
       "</style>\n",
       "<table border=\"1\" class=\"dataframe\">\n",
       "  <thead>\n",
       "    <tr style=\"text-align: right;\">\n",
       "      <th></th>\n",
       "      <th>User_ID</th>\n",
       "      <th>Gender</th>\n",
       "      <th>Age</th>\n",
       "      <th>Location</th>\n",
       "      <th>Verification</th>\n",
       "      <th>Sexual_orientation</th>\n",
       "      <th>Sexual_polarity</th>\n",
       "      <th>Looking_for</th>\n",
       "      <th>Points_Rank</th>\n",
       "      <th>Last_login</th>\n",
       "      <th>Member_since</th>\n",
       "      <th>Number_of_Comments_in_public_forum</th>\n",
       "      <th>Time_spent_chating_H:M</th>\n",
       "      <th>Number_of_advertisments_posted</th>\n",
       "      <th>Number_of_offline_meetings_attended</th>\n",
       "      <th>Profile_pictures</th>\n",
       "      <th>Friends_ID_list</th>\n",
       "      <th>Risk</th>\n",
       "    </tr>\n",
       "  </thead>\n",
       "  <tbody>\n",
       "    <tr>\n",
       "      <th>count</th>\n",
       "      <td>28831.000000</td>\n",
       "      <td>28827</td>\n",
       "      <td>28831</td>\n",
       "      <td>28830</td>\n",
       "      <td>28831</td>\n",
       "      <td>28830</td>\n",
       "      <td>28830</td>\n",
       "      <td>28406</td>\n",
       "      <td>28831</td>\n",
       "      <td>28831</td>\n",
       "      <td>28831</td>\n",
       "      <td>28831</td>\n",
       "      <td>28831</td>\n",
       "      <td>28831.000000</td>\n",
       "      <td>28831.000000</td>\n",
       "      <td>28831.000000</td>\n",
       "      <td>3313</td>\n",
       "      <td>28831</td>\n",
       "    </tr>\n",
       "    <tr>\n",
       "      <th>unique</th>\n",
       "      <td>NaN</td>\n",
       "      <td>2</td>\n",
       "      <td>526</td>\n",
       "      <td>18</td>\n",
       "      <td>3</td>\n",
       "      <td>4</td>\n",
       "      <td>3</td>\n",
       "      <td>5</td>\n",
       "      <td>376</td>\n",
       "      <td>2360</td>\n",
       "      <td>2629</td>\n",
       "      <td>217</td>\n",
       "      <td>1199</td>\n",
       "      <td>NaN</td>\n",
       "      <td>NaN</td>\n",
       "      <td>NaN</td>\n",
       "      <td>2742</td>\n",
       "      <td>3</td>\n",
       "    </tr>\n",
       "    <tr>\n",
       "      <th>top</th>\n",
       "      <td>NaN</td>\n",
       "      <td>male</td>\n",
       "      <td>37,3</td>\n",
       "      <td>A</td>\n",
       "      <td>Non_Verified</td>\n",
       "      <td>Heterosexual</td>\n",
       "      <td>Submisive</td>\n",
       "      <td>Nobody</td>\n",
       "      <td>0</td>\n",
       "      <td>before_1_days</td>\n",
       "      <td>1.7.2012</td>\n",
       "      <td>0</td>\n",
       "      <td>0:0</td>\n",
       "      <td>NaN</td>\n",
       "      <td>NaN</td>\n",
       "      <td>NaN</td>\n",
       "      <td>22639</td>\n",
       "      <td>unknown_risk</td>\n",
       "    </tr>\n",
       "    <tr>\n",
       "      <th>freq</th>\n",
       "      <td>NaN</td>\n",
       "      <td>22382</td>\n",
       "      <td>264</td>\n",
       "      <td>10944</td>\n",
       "      <td>28228</td>\n",
       "      <td>20441</td>\n",
       "      <td>10878</td>\n",
       "      <td>19928</td>\n",
       "      <td>19931</td>\n",
       "      <td>1392</td>\n",
       "      <td>110</td>\n",
       "      <td>25933</td>\n",
       "      <td>22824</td>\n",
       "      <td>NaN</td>\n",
       "      <td>NaN</td>\n",
       "      <td>NaN</td>\n",
       "      <td>23</td>\n",
       "      <td>28741</td>\n",
       "    </tr>\n",
       "    <tr>\n",
       "      <th>mean</th>\n",
       "      <td>24150.659637</td>\n",
       "      <td>NaN</td>\n",
       "      <td>NaN</td>\n",
       "      <td>NaN</td>\n",
       "      <td>NaN</td>\n",
       "      <td>NaN</td>\n",
       "      <td>NaN</td>\n",
       "      <td>NaN</td>\n",
       "      <td>NaN</td>\n",
       "      <td>NaN</td>\n",
       "      <td>NaN</td>\n",
       "      <td>NaN</td>\n",
       "      <td>NaN</td>\n",
       "      <td>0.171413</td>\n",
       "      <td>0.042073</td>\n",
       "      <td>0.436301</td>\n",
       "      <td>NaN</td>\n",
       "      <td>NaN</td>\n",
       "    </tr>\n",
       "    <tr>\n",
       "      <th>std</th>\n",
       "      <td>14051.610199</td>\n",
       "      <td>NaN</td>\n",
       "      <td>NaN</td>\n",
       "      <td>NaN</td>\n",
       "      <td>NaN</td>\n",
       "      <td>NaN</td>\n",
       "      <td>NaN</td>\n",
       "      <td>NaN</td>\n",
       "      <td>NaN</td>\n",
       "      <td>NaN</td>\n",
       "      <td>NaN</td>\n",
       "      <td>NaN</td>\n",
       "      <td>NaN</td>\n",
       "      <td>0.608099</td>\n",
       "      <td>0.440019</td>\n",
       "      <td>3.095367</td>\n",
       "      <td>NaN</td>\n",
       "      <td>NaN</td>\n",
       "    </tr>\n",
       "    <tr>\n",
       "      <th>min</th>\n",
       "      <td>1.000000</td>\n",
       "      <td>NaN</td>\n",
       "      <td>NaN</td>\n",
       "      <td>NaN</td>\n",
       "      <td>NaN</td>\n",
       "      <td>NaN</td>\n",
       "      <td>NaN</td>\n",
       "      <td>NaN</td>\n",
       "      <td>NaN</td>\n",
       "      <td>NaN</td>\n",
       "      <td>NaN</td>\n",
       "      <td>NaN</td>\n",
       "      <td>NaN</td>\n",
       "      <td>0.000000</td>\n",
       "      <td>0.000000</td>\n",
       "      <td>0.000000</td>\n",
       "      <td>NaN</td>\n",
       "      <td>NaN</td>\n",
       "    </tr>\n",
       "    <tr>\n",
       "      <th>25%</th>\n",
       "      <td>11895.500000</td>\n",
       "      <td>NaN</td>\n",
       "      <td>NaN</td>\n",
       "      <td>NaN</td>\n",
       "      <td>NaN</td>\n",
       "      <td>NaN</td>\n",
       "      <td>NaN</td>\n",
       "      <td>NaN</td>\n",
       "      <td>NaN</td>\n",
       "      <td>NaN</td>\n",
       "      <td>NaN</td>\n",
       "      <td>NaN</td>\n",
       "      <td>NaN</td>\n",
       "      <td>0.000000</td>\n",
       "      <td>0.000000</td>\n",
       "      <td>0.000000</td>\n",
       "      <td>NaN</td>\n",
       "      <td>NaN</td>\n",
       "    </tr>\n",
       "    <tr>\n",
       "      <th>50%</th>\n",
       "      <td>23754.000000</td>\n",
       "      <td>NaN</td>\n",
       "      <td>NaN</td>\n",
       "      <td>NaN</td>\n",
       "      <td>NaN</td>\n",
       "      <td>NaN</td>\n",
       "      <td>NaN</td>\n",
       "      <td>NaN</td>\n",
       "      <td>NaN</td>\n",
       "      <td>NaN</td>\n",
       "      <td>NaN</td>\n",
       "      <td>NaN</td>\n",
       "      <td>NaN</td>\n",
       "      <td>0.000000</td>\n",
       "      <td>0.000000</td>\n",
       "      <td>0.000000</td>\n",
       "      <td>NaN</td>\n",
       "      <td>NaN</td>\n",
       "    </tr>\n",
       "    <tr>\n",
       "      <th>75%</th>\n",
       "      <td>36450.000000</td>\n",
       "      <td>NaN</td>\n",
       "      <td>NaN</td>\n",
       "      <td>NaN</td>\n",
       "      <td>NaN</td>\n",
       "      <td>NaN</td>\n",
       "      <td>NaN</td>\n",
       "      <td>NaN</td>\n",
       "      <td>NaN</td>\n",
       "      <td>NaN</td>\n",
       "      <td>NaN</td>\n",
       "      <td>NaN</td>\n",
       "      <td>NaN</td>\n",
       "      <td>0.000000</td>\n",
       "      <td>0.000000</td>\n",
       "      <td>0.000000</td>\n",
       "      <td>NaN</td>\n",
       "      <td>NaN</td>\n",
       "    </tr>\n",
       "    <tr>\n",
       "      <th>max</th>\n",
       "      <td>48606.000000</td>\n",
       "      <td>NaN</td>\n",
       "      <td>NaN</td>\n",
       "      <td>NaN</td>\n",
       "      <td>NaN</td>\n",
       "      <td>NaN</td>\n",
       "      <td>NaN</td>\n",
       "      <td>NaN</td>\n",
       "      <td>NaN</td>\n",
       "      <td>NaN</td>\n",
       "      <td>NaN</td>\n",
       "      <td>NaN</td>\n",
       "      <td>NaN</td>\n",
       "      <td>21.000000</td>\n",
       "      <td>23.000000</td>\n",
       "      <td>147.000000</td>\n",
       "      <td>NaN</td>\n",
       "      <td>NaN</td>\n",
       "    </tr>\n",
       "  </tbody>\n",
       "</table>\n",
       "</div>"
      ],
      "text/plain": [
       "             User_ID Gender    Age Location  Verification Sexual_orientation  \\\n",
       "count   28831.000000  28827  28831    28830         28831              28830   \n",
       "unique           NaN      2    526       18             3                  4   \n",
       "top              NaN   male   37,3        A  Non_Verified       Heterosexual   \n",
       "freq             NaN  22382    264    10944         28228              20441   \n",
       "mean    24150.659637    NaN    NaN      NaN           NaN                NaN   \n",
       "std     14051.610199    NaN    NaN      NaN           NaN                NaN   \n",
       "min         1.000000    NaN    NaN      NaN           NaN                NaN   \n",
       "25%     11895.500000    NaN    NaN      NaN           NaN                NaN   \n",
       "50%     23754.000000    NaN    NaN      NaN           NaN                NaN   \n",
       "75%     36450.000000    NaN    NaN      NaN           NaN                NaN   \n",
       "max     48606.000000    NaN    NaN      NaN           NaN                NaN   \n",
       "\n",
       "       Sexual_polarity Looking_for Points_Rank     Last_login Member_since  \\\n",
       "count            28830       28406       28831          28831        28831   \n",
       "unique               3           5         376           2360         2629   \n",
       "top          Submisive      Nobody           0  before_1_days     1.7.2012   \n",
       "freq             10878       19928       19931           1392          110   \n",
       "mean               NaN         NaN         NaN            NaN          NaN   \n",
       "std                NaN         NaN         NaN            NaN          NaN   \n",
       "min                NaN         NaN         NaN            NaN          NaN   \n",
       "25%                NaN         NaN         NaN            NaN          NaN   \n",
       "50%                NaN         NaN         NaN            NaN          NaN   \n",
       "75%                NaN         NaN         NaN            NaN          NaN   \n",
       "max                NaN         NaN         NaN            NaN          NaN   \n",
       "\n",
       "       Number_of_Comments_in_public_forum Time_spent_chating_H:M  \\\n",
       "count                               28831                  28831   \n",
       "unique                                217                   1199   \n",
       "top                                     0                    0:0   \n",
       "freq                                25933                  22824   \n",
       "mean                                  NaN                    NaN   \n",
       "std                                   NaN                    NaN   \n",
       "min                                   NaN                    NaN   \n",
       "25%                                   NaN                    NaN   \n",
       "50%                                   NaN                    NaN   \n",
       "75%                                   NaN                    NaN   \n",
       "max                                   NaN                    NaN   \n",
       "\n",
       "        Number_of_advertisments_posted  Number_of_offline_meetings_attended  \\\n",
       "count                     28831.000000                         28831.000000   \n",
       "unique                             NaN                                  NaN   \n",
       "top                                NaN                                  NaN   \n",
       "freq                               NaN                                  NaN   \n",
       "mean                          0.171413                             0.042073   \n",
       "std                           0.608099                             0.440019   \n",
       "min                           0.000000                             0.000000   \n",
       "25%                           0.000000                             0.000000   \n",
       "50%                           0.000000                             0.000000   \n",
       "75%                           0.000000                             0.000000   \n",
       "max                          21.000000                            23.000000   \n",
       "\n",
       "        Profile_pictures Friends_ID_list          Risk  \n",
       "count       28831.000000            3313         28831  \n",
       "unique               NaN            2742             3  \n",
       "top                  NaN           22639  unknown_risk  \n",
       "freq                 NaN              23         28741  \n",
       "mean            0.436301             NaN           NaN  \n",
       "std             3.095367             NaN           NaN  \n",
       "min             0.000000             NaN           NaN  \n",
       "25%             0.000000             NaN           NaN  \n",
       "50%             0.000000             NaN           NaN  \n",
       "75%             0.000000             NaN           NaN  \n",
       "max           147.000000             NaN           NaN  "
      ]
     },
     "execution_count": 6,
     "metadata": {},
     "output_type": "execute_result"
    }
   ],
   "source": [
    "#Call describe on data to see summary of statistics\n",
    "online_data.describe(include = 'all')"
   ]
  },
  {
   "cell_type": "code",
   "execution_count": 7,
   "id": "bcc8154b",
   "metadata": {},
   "outputs": [],
   "source": [
    "#Create columns variable\n",
    "columns = online_data.columns"
   ]
  },
  {
   "cell_type": "code",
   "execution_count": 8,
   "id": "6d814b7b",
   "metadata": {},
   "outputs": [],
   "source": [
    "#Create columns to convert to strings\n",
    "to_be_string_columns = ['Gender', 'Location', 'Verification', 'Sexual_orientation', \n",
    "                        'Sexual_polarity', 'Looking_for', 'Last_login','Risk']"
   ]
  },
  {
   "cell_type": "code",
   "execution_count": 9,
   "id": "2e7d36b3",
   "metadata": {},
   "outputs": [],
   "source": [
    "#Convert object columns to string\n",
    "for column in to_be_string_columns:\n",
    "    online_data[column] = online_data[column].astype('string')"
   ]
  },
  {
   "cell_type": "code",
   "execution_count": 10,
   "id": "0bd2eec3",
   "metadata": {},
   "outputs": [
    {
     "name": "stdout",
     "output_type": "stream",
     "text": [
      "<class 'pandas.core.frame.DataFrame'>\n",
      "RangeIndex: 1048575 entries, 0 to 1048574\n",
      "Data columns (total 18 columns):\n",
      " #   Column                               Non-Null Count  Dtype  \n",
      "---  ------                               --------------  -----  \n",
      " 0   User_ID                              28831 non-null  float64\n",
      " 1   Gender                               28827 non-null  string \n",
      " 2   Age                                  28831 non-null  object \n",
      " 3   Location                             28830 non-null  string \n",
      " 4   Verification                         28831 non-null  string \n",
      " 5   Sexual_orientation                   28830 non-null  string \n",
      " 6   Sexual_polarity                      28830 non-null  string \n",
      " 7   Looking_for                          28406 non-null  string \n",
      " 8   Points_Rank                          28831 non-null  object \n",
      " 9   Last_login                           28831 non-null  string \n",
      " 10  Member_since                         28831 non-null  object \n",
      " 11  Number_of_Comments_in_public_forum   28831 non-null  object \n",
      " 12  Time_spent_chating_H:M               28831 non-null  object \n",
      " 13  Number_of_advertisments_posted       28831 non-null  float64\n",
      " 14  Number_of_offline_meetings_attended  28831 non-null  float64\n",
      " 15  Profile_pictures                     28831 non-null  float64\n",
      " 16  Friends_ID_list                      3313 non-null   object \n",
      " 17  Risk                                 28831 non-null  string \n",
      "dtypes: float64(4), object(6), string(8)\n",
      "memory usage: 144.0+ MB\n"
     ]
    }
   ],
   "source": [
    "#Confirm columns are now strings\n",
    "online_data.info()"
   ]
  },
  {
   "cell_type": "code",
   "execution_count": 11,
   "id": "5749c570",
   "metadata": {},
   "outputs": [],
   "source": [
    "#Convert location column to string\n",
    "online_data['Location'] = online_data['Location'].astype('string')"
   ]
  },
  {
   "cell_type": "code",
   "execution_count": 12,
   "id": "387d116a",
   "metadata": {},
   "outputs": [
    {
     "data": {
      "text/plain": [
       "<AxesSubplot:xlabel='Gender'>"
      ]
     },
     "execution_count": 12,
     "metadata": {},
     "output_type": "execute_result"
    },
    {
     "data": {
      "image/png": "[encoded data removed]",
      "text/plain": [
       "<Figure size 432x288 with 1 Axes>"
      ]
     },
     "metadata": {
      "needs_background": "light"
     },
     "output_type": "display_data"
    }
   ],
   "source": [
    "#Review \n",
    "online_data.groupby('Gender').size().plot(kind='bar')"
   ]
  },
  {
   "cell_type": "code",
   "execution_count": 13,
   "id": "6ad04b0c",
   "metadata": {},
   "outputs": [],
   "source": [
    "#Update age column commas to decimals\n",
    "online_data['Age'] = online_data['Age'].str.replace(',','.')"
   ]
  },
  {
   "cell_type": "code",
   "execution_count": 14,
   "id": "73fd578e",
   "metadata": {},
   "outputs": [
    {
     "data": {
      "text/plain": [
       "0          34.6\n",
       "1          32.2\n",
       "2          33.6\n",
       "3            34\n",
       "4          39.5\n",
       "           ... \n",
       "1048570     NaN\n",
       "1048571     NaN\n",
       "1048572     NaN\n",
       "1048573     NaN\n",
       "1048574     NaN\n",
       "Name: Age, Length: 1048575, dtype: object"
      ]
     },
     "execution_count": 14,
     "metadata": {},
     "output_type": "execute_result"
    }
   ],
   "source": [
    "#Convert missing values in age column to NaN\n",
    "online_data['Age'].replace('???', np.NaN)"
   ]
  },
  {
   "cell_type": "code",
   "execution_count": 15,
   "id": "42af5339",
   "metadata": {},
   "outputs": [],
   "source": [
    "#Convert age object to float\n",
    "online_data['Age'] = pd.to_numeric(online_data['Age'],errors='coerce')"
   ]
  },
  {
   "cell_type": "code",
   "execution_count": 16,
   "id": "6ada5674",
   "metadata": {},
   "outputs": [
    {
     "data": {
      "text/plain": [
       "<AxesSubplot:ylabel='Frequency'>"
      ]
     },
     "execution_count": 16,
     "metadata": {},
     "output_type": "execute_result"
    },
    {
     "data": {
      "image/png": "[encoded data removed]",
      "text/plain": [
       "<Figure size 432x288 with 1 Axes>"
      ]
     },
     "metadata": {
      "needs_background": "light"
     },
     "output_type": "display_data"
    }
   ],
   "source": [
    "#Histogram plot of age to inspect data\n",
    "online_data['Age'].plot.hist(bins=20)"
   ]
  },
  {
   "cell_type": "code",
   "execution_count": 17,
   "id": "e5b7c3e9",
   "metadata": {},
   "outputs": [],
   "source": [
    "#Update location object to string\n",
    "online_data['Location'] = online_data['Location'].astype('str')"
   ]
  },
  {
   "cell_type": "code",
   "execution_count": 18,
   "id": "edea9ad5",
   "metadata": {},
   "outputs": [
    {
     "data": {
      "text/plain": [
       "<AxesSubplot:xlabel='Location'>"
      ]
     },
     "execution_count": 18,
     "metadata": {},
     "output_type": "execute_result"
    },
    {
     "data": {
      "image/png": "[encoded data removed]",
      "text/plain": [
       "<Figure size 432x288 with 1 Axes>"
      ]
     },
     "metadata": {
      "needs_background": "light"
     },
     "output_type": "display_data"
    }
   ],
   "source": [
    "#Histogram plot of location to inspect location data, removed misisng values\n",
    "plot_df = online_data.dropna()\n",
    "plot_df.groupby('Location').size().plot(kind='bar')"
   ]
  },
  {
   "cell_type": "code",
   "execution_count": 19,
   "id": "30530de6",
   "metadata": {},
   "outputs": [
    {
     "data": {
      "text/plain": [
       "<AxesSubplot:xlabel='Sexual_orientation'>"
      ]
     },
     "execution_count": 19,
     "metadata": {},
     "output_type": "execute_result"
    },
    {
     "data": {
      "image/png": "[encoded data removed]",
      "text/plain": [
       "<Figure size 432x288 with 1 Axes>"
      ]
     },
     "metadata": {
      "needs_background": "light"
     },
     "output_type": "display_data"
    }
   ],
   "source": [
    "online_data.groupby('Sexual_orientation').size().plot(kind='bar')"
   ]
  },
  {
   "cell_type": "code",
   "execution_count": 20,
   "id": "6d951c09",
   "metadata": {},
   "outputs": [
    {
     "data": {
      "text/plain": [
       "<AxesSubplot:xlabel='Sexual_polarity'>"
      ]
     },
     "execution_count": 20,
     "metadata": {},
     "output_type": "execute_result"
    },
    {
     "data": {
      "image/png": "[encoded data removed]",
      "text/plain": [
       "<Figure size 432x288 with 1 Axes>"
      ]
     },
     "metadata": {
      "needs_background": "light"
     },
     "output_type": "display_data"
    }
   ],
   "source": [
    "online_data.groupby('Sexual_polarity').size().plot(kind='bar')"
   ]
  },
  {
   "cell_type": "code",
   "execution_count": 21,
   "id": "66af4e3e",
   "metadata": {},
   "outputs": [
    {
     "data": {
      "text/plain": [
       "<AxesSubplot:xlabel='Looking_for'>"
      ]
     },
     "execution_count": 21,
     "metadata": {},
     "output_type": "execute_result"
    },
    {
     "data": {
      "image/png": "[encoded data removed]",
      "text/plain": [
       "<Figure size 432x288 with 1 Axes>"
      ]
     },
     "metadata": {
      "needs_background": "light"
     },
     "output_type": "display_data"
    }
   ],
   "source": [
    "online_data.groupby('Looking_for').size().plot(kind='bar')"
   ]
  },
  {
   "cell_type": "code",
   "execution_count": 22,
   "id": "38d9a4a3",
   "metadata": {},
   "outputs": [
    {
     "data": {
      "text/plain": [
       "<AxesSubplot:xlabel='Risk'>"
      ]
     },
     "execution_count": 22,
     "metadata": {},
     "output_type": "execute_result"
    },
    {
     "data": {
      "image/png": "[encoded data removed]",
      "text/plain": [
       "<Figure size 432x288 with 1 Axes>"
      ]
     },
     "metadata": {
      "needs_background": "light"
     },
     "output_type": "display_data"
    }
   ],
   "source": [
    "plot_df.groupby('Risk').size().plot(kind='bar')"
   ]
  },
  {
   "cell_type": "code",
   "execution_count": 23,
   "id": "eaf382c9",
   "metadata": {},
   "outputs": [
    {
     "data": {
      "text/html": [
       "<div>\n",
       "<style scoped>\n",
       "    .dataframe tbody tr th:only-of-type {\n",
       "        vertical-align: middle;\n",
       "    }\n",
       "\n",
       "    .dataframe tbody tr th {\n",
       "        vertical-align: top;\n",
       "    }\n",
       "\n",
       "    .dataframe thead th {\n",
       "        text-align: right;\n",
       "    }\n",
       "</style>\n",
       "<table border=\"1\" class=\"dataframe\">\n",
       "  <thead>\n",
       "    <tr style=\"text-align: right;\">\n",
       "      <th></th>\n",
       "      <th>User_ID</th>\n",
       "      <th>Gender</th>\n",
       "      <th>Age</th>\n",
       "      <th>Location</th>\n",
       "      <th>Verification</th>\n",
       "      <th>Sexual_orientation</th>\n",
       "      <th>Sexual_polarity</th>\n",
       "      <th>Looking_for</th>\n",
       "      <th>Points_Rank</th>\n",
       "      <th>Last_login</th>\n",
       "      <th>Member_since</th>\n",
       "      <th>Number_of_Comments_in_public_forum</th>\n",
       "      <th>Time_spent_chating_H:M</th>\n",
       "      <th>Number_of_advertisments_posted</th>\n",
       "      <th>Number_of_offline_meetings_attended</th>\n",
       "      <th>Profile_pictures</th>\n",
       "      <th>Friends_ID_list</th>\n",
       "      <th>Risk</th>\n",
       "    </tr>\n",
       "  </thead>\n",
       "  <tbody>\n",
       "    <tr>\n",
       "      <th>0</th>\n",
       "      <td>10386.0</td>\n",
       "      <td>male</td>\n",
       "      <td>34.6</td>\n",
       "      <td>A</td>\n",
       "      <td>Non_Verified</td>\n",
       "      <td>Homosexual</td>\n",
       "      <td>Switch</td>\n",
       "      <td>Men</td>\n",
       "      <td>50</td>\n",
       "      <td>before_10_days</td>\n",
       "      <td>17.9.2012</td>\n",
       "      <td>32</td>\n",
       "      <td>0:2</td>\n",
       "      <td>0.0</td>\n",
       "      <td>0.0</td>\n",
       "      <td>0.0</td>\n",
       "      <td>18260</td>\n",
       "      <td>No_risk</td>\n",
       "    </tr>\n",
       "    <tr>\n",
       "      <th>1</th>\n",
       "      <td>14.0</td>\n",
       "      <td>male</td>\n",
       "      <td>32.2</td>\n",
       "      <td>J</td>\n",
       "      <td>Non_Verified</td>\n",
       "      <td>Heterosexual</td>\n",
       "      <td>Dominant</td>\n",
       "      <td>Women</td>\n",
       "      <td>518</td>\n",
       "      <td>before_1_days</td>\n",
       "      <td>1.11.2009</td>\n",
       "      <td>710</td>\n",
       "      <td>3:45</td>\n",
       "      <td>9.0</td>\n",
       "      <td>0.0</td>\n",
       "      <td>0.0</td>\n",
       "      <td>11778,32024,43768,23969,27318,45884,31277</td>\n",
       "      <td>No_risk</td>\n",
       "    </tr>\n",
       "    <tr>\n",
       "      <th>2</th>\n",
       "      <td>16721.0</td>\n",
       "      <td>male</td>\n",
       "      <td>33.6</td>\n",
       "      <td>K</td>\n",
       "      <td>Non_Verified</td>\n",
       "      <td>Heterosexual</td>\n",
       "      <td>Dominant</td>\n",
       "      <td>Women</td>\n",
       "      <td>150</td>\n",
       "      <td>before_3_days</td>\n",
       "      <td>1.4.2013</td>\n",
       "      <td>25</td>\n",
       "      <td>2:15</td>\n",
       "      <td>1.0</td>\n",
       "      <td>1.0</td>\n",
       "      <td>45.0</td>\n",
       "      <td>19805,21721,19802</td>\n",
       "      <td>No_risk</td>\n",
       "    </tr>\n",
       "    <tr>\n",
       "      <th>3</th>\n",
       "      <td>16957.0</td>\n",
       "      <td>male</td>\n",
       "      <td>34.0</td>\n",
       "      <td>H</td>\n",
       "      <td>Non_Verified</td>\n",
       "      <td>Heterosexual</td>\n",
       "      <td>Dominant</td>\n",
       "      <td>Women</td>\n",
       "      <td>114</td>\n",
       "      <td>before_4_days</td>\n",
       "      <td>8.4.2013</td>\n",
       "      <td>107</td>\n",
       "      <td>359:22</td>\n",
       "      <td>1.0</td>\n",
       "      <td>0.0</td>\n",
       "      <td>1.0</td>\n",
       "      <td>40847,38183,9507,42259,5807,28118,24848,37170,...</td>\n",
       "      <td>No_risk</td>\n",
       "    </tr>\n",
       "    <tr>\n",
       "      <th>4</th>\n",
       "      <td>17125.0</td>\n",
       "      <td>male</td>\n",
       "      <td>39.5</td>\n",
       "      <td>B</td>\n",
       "      <td>Non_Verified</td>\n",
       "      <td>Heterosexual</td>\n",
       "      <td>Dominant</td>\n",
       "      <td>Women</td>\n",
       "      <td>497</td>\n",
       "      <td>before_5_days</td>\n",
       "      <td>14.4.2013</td>\n",
       "      <td>600</td>\n",
       "      <td>0:21</td>\n",
       "      <td>0.0</td>\n",
       "      <td>6.0</td>\n",
       "      <td>8.0</td>\n",
       "      <td>1320,35739,34231,19097,20197,18069,12330,43342...</td>\n",
       "      <td>No_risk</td>\n",
       "    </tr>\n",
       "  </tbody>\n",
       "</table>\n",
       "</div>"
      ],
      "text/plain": [
       "   User_ID Gender   Age Location  Verification Sexual_orientation  \\\n",
       "0  10386.0   male  34.6        A  Non_Verified         Homosexual   \n",
       "1     14.0   male  32.2        J  Non_Verified       Heterosexual   \n",
       "2  16721.0   male  33.6        K  Non_Verified       Heterosexual   \n",
       "3  16957.0   male  34.0        H  Non_Verified       Heterosexual   \n",
       "4  17125.0   male  39.5        B  Non_Verified       Heterosexual   \n",
       "\n",
       "  Sexual_polarity Looking_for Points_Rank      Last_login Member_since  \\\n",
       "0          Switch         Men          50  before_10_days    17.9.2012   \n",
       "1        Dominant       Women         518   before_1_days    1.11.2009   \n",
       "2        Dominant       Women         150   before_3_days     1.4.2013   \n",
       "3        Dominant       Women         114   before_4_days     8.4.2013   \n",
       "4        Dominant       Women         497   before_5_days    14.4.2013   \n",
       "\n",
       "  Number_of_Comments_in_public_forum Time_spent_chating_H:M  \\\n",
       "0                                 32                    0:2   \n",
       "1                                710                   3:45   \n",
       "2                                 25                   2:15   \n",
       "3                                107                 359:22   \n",
       "4                                600                   0:21   \n",
       "\n",
       "   Number_of_advertisments_posted  Number_of_offline_meetings_attended  \\\n",
       "0                             0.0                                  0.0   \n",
       "1                             9.0                                  0.0   \n",
       "2                             1.0                                  1.0   \n",
       "3                             1.0                                  0.0   \n",
       "4                             0.0                                  6.0   \n",
       "\n",
       "   Profile_pictures                                    Friends_ID_list  \\\n",
       "0               0.0                                              18260   \n",
       "1               0.0          11778,32024,43768,23969,27318,45884,31277   \n",
       "2              45.0                                  19805,21721,19802   \n",
       "3               1.0  40847,38183,9507,42259,5807,28118,24848,37170,...   \n",
       "4               8.0  1320,35739,34231,19097,20197,18069,12330,43342...   \n",
       "\n",
       "      Risk  \n",
       "0  No_risk  \n",
       "1  No_risk  \n",
       "2  No_risk  \n",
       "3  No_risk  \n",
       "4  No_risk  "
      ]
     },
     "execution_count": 23,
     "metadata": {},
     "output_type": "execute_result"
    }
   ],
   "source": [
    "online_data.head()"
   ]
  },
  {
   "cell_type": "code",
   "execution_count": 27,
   "id": "99f3bf16",
   "metadata": {},
   "outputs": [
    {
     "ename": "AttributeError",
     "evalue": "'Series' object has no attribute 'split'",
     "output_type": "error",
     "traceback": [
      "\u001b[0;31m---------------------------------------------------------------------------\u001b[0m",
      "\u001b[0;31mAttributeError\u001b[0m                            Traceback (most recent call last)",
      "\u001b[0;32m<ipython-input-27-72f57dfaa9e8>\u001b[0m in \u001b[0;36m<module>\u001b[0;34m\u001b[0m\n\u001b[1;32m      1\u001b[0m \u001b[0mremovechar\u001b[0m \u001b[0;34m=\u001b[0m \u001b[0;34m[\u001b[0m\u001b[0;34m'before_'\u001b[0m\u001b[0;34m,\u001b[0m \u001b[0;34m'_days'\u001b[0m\u001b[0;34m]\u001b[0m\u001b[0;34m\u001b[0m\u001b[0;34m\u001b[0m\u001b[0m\n\u001b[0;32m----> 2\u001b[0;31m \u001b[0mx\u001b[0m \u001b[0;34m=\u001b[0m \u001b[0monline_data\u001b[0m\u001b[0;34m[\u001b[0m\u001b[0;34m'Last_login'\u001b[0m\u001b[0;34m]\u001b[0m\u001b[0;34m.\u001b[0m\u001b[0msplit\u001b[0m\u001b[0;34m(\u001b[0m\u001b[0mremovechar\u001b[0m\u001b[0;34m)\u001b[0m\u001b[0;34m\u001b[0m\u001b[0;34m\u001b[0m\u001b[0m\n\u001b[0m",
      "\u001b[0;32m/opt/anaconda3/lib/python3.8/site-packages/pandas/core/generic.py\u001b[0m in \u001b[0;36m__getattr__\u001b[0;34m(self, name)\u001b[0m\n\u001b[1;32m   5463\u001b[0m             \u001b[0;32mif\u001b[0m \u001b[0mself\u001b[0m\u001b[0;34m.\u001b[0m\u001b[0m_info_axis\u001b[0m\u001b[0;34m.\u001b[0m\u001b[0m_can_hold_identifiers_and_holds_name\u001b[0m\u001b[0;34m(\u001b[0m\u001b[0mname\u001b[0m\u001b[0;34m)\u001b[0m\u001b[0;34m:\u001b[0m\u001b[0;34m\u001b[0m\u001b[0;34m\u001b[0m\u001b[0m\n\u001b[1;32m   5464\u001b[0m                 \u001b[0;32mreturn\u001b[0m \u001b[0mself\u001b[0m\u001b[0;34m[\u001b[0m\u001b[0mname\u001b[0m\u001b[0;34m]\u001b[0m\u001b[0;34m\u001b[0m\u001b[0;34m\u001b[0m\u001b[0m\n\u001b[0;32m-> 5465\u001b[0;31m             \u001b[0;32mreturn\u001b[0m \u001b[0mobject\u001b[0m\u001b[0;34m.\u001b[0m\u001b[0m__getattribute__\u001b[0m\u001b[0;34m(\u001b[0m\u001b[0mself\u001b[0m\u001b[0;34m,\u001b[0m \u001b[0mname\u001b[0m\u001b[0;34m)\u001b[0m\u001b[0;34m\u001b[0m\u001b[0;34m\u001b[0m\u001b[0m\n\u001b[0m\u001b[1;32m   5466\u001b[0m \u001b[0;34m\u001b[0m\u001b[0m\n\u001b[1;32m   5467\u001b[0m     \u001b[0;32mdef\u001b[0m \u001b[0m__setattr__\u001b[0m\u001b[0;34m(\u001b[0m\u001b[0mself\u001b[0m\u001b[0;34m,\u001b[0m \u001b[0mname\u001b[0m\u001b[0;34m:\u001b[0m \u001b[0mstr\u001b[0m\u001b[0;34m,\u001b[0m \u001b[0mvalue\u001b[0m\u001b[0;34m)\u001b[0m \u001b[0;34m->\u001b[0m \u001b[0;32mNone\u001b[0m\u001b[0;34m:\u001b[0m\u001b[0;34m\u001b[0m\u001b[0;34m\u001b[0m\u001b[0m\n",
      "\u001b[0;31mAttributeError\u001b[0m: 'Series' object has no attribute 'split'"
     ]
    }
   ],
   "source": [
    "removechar = ['before_', '_days']\n",
    "x = online_data['Last_login'].split(removechar)"
   ]
  },
  {
   "cell_type": "code",
   "execution_count": null,
   "id": "5beea977",
   "metadata": {},
   "outputs": [],
   "source": []
  }
 ],
 "metadata": {
  "kernelspec": {
   "display_name": "Python 3",
   "language": "python",
   "name": "python3"
  },
  "language_info": {
   "codemirror_mode": {
    "name": "ipython",
    "version": 3
   },
   "file_extension": ".py",
   "mimetype": "text/x-python",
   "name": "python",
   "nbconvert_exporter": "python",
   "pygments_lexer": "ipython3",
   "version": "3.8.10"
  }
 },
 "nbformat": 4,
 "nbformat_minor": 5
}
